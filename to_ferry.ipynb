{
 "cells": [
  {
   "cell_type": "code",
   "execution_count": 1,
   "id": "13cf439d",
   "metadata": {},
   "outputs": [],
   "source": [
    "from dash import Dash, html, dash_table, dcc, callback, Output, Input\n",
    "import pandas as pd\n",
    "import plotly.express as px\n",
    "import dash_bootstrap_components as dbc\n",
    "import calendar\n",
    "import requests\n",
    "from datetime import datetime"
   ]
  },
  {
   "cell_type": "code",
   "execution_count": 2,
   "id": "20203d6b",
   "metadata": {},
   "outputs": [],
   "source": [
    "# Incorporate data\n",
    "df = pd.read_csv('data.csv')"
   ]
  },
  {
   "cell_type": "code",
   "execution_count": 3,
   "id": "c441f15b",
   "metadata": {},
   "outputs": [],
   "source": [
    "# Initialize the app - incorporate a Dash Bootstrap theme\n",
    "external_stylesheets = [dbc.themes.CERULEAN]\n",
    "app = Dash(__name__, external_stylesheets=external_stylesheets)"
   ]
  },
  {
   "cell_type": "code",
   "execution_count": 4,
   "id": "da828d26",
   "metadata": {},
   "outputs": [],
   "source": [
    "# Create Year Column\n",
    "df['Timestamp'] = pd.to_datetime(df['Timestamp'])\n",
    "df['Year'] = df['Timestamp'].dt.year\n",
    "# Create Day Column\n",
    "df['Day'] = df['Timestamp'].dt.date\n",
    "df['Month'] = df['Timestamp'].dt.month"
   ]
  },
  {
   "cell_type": "code",
   "execution_count": 5,
   "id": "aa71278b",
   "metadata": {},
   "outputs": [],
   "source": [
    "# Proper aggregation:\n",
    "year_grouped = df.groupby('Year', as_index=False)['Redemption Count'].sum()\n",
    "day_grouped = df.groupby('Day', as_index=False)['Redemption Count'].sum()\n",
    "day_grouped_sorted = day_grouped.sort_values(by='Redemption Count', ascending=False)\n",
    "month_grouped = df.groupby('Month', as_index=False)['Redemption Count'].sum()\n",
    "month_grouped_sorted = month_grouped.sort_values(by='Redemption Count', ascending=False).reset_index(drop=True)\n",
    "month_grouped_sorted['Month_Name'] = month_grouped_sorted['Month'].apply(lambda x: calendar.month_name[x])\n",
    "top_month = month_grouped_sorted.iloc[0,2]\n",
    "top_month_rd = month_grouped_sorted.iloc[0,1]"
   ]
  },
  {
   "cell_type": "code",
   "execution_count": 6,
   "id": "0d93bff2",
   "metadata": {},
   "outputs": [],
   "source": [
    "# What is the dataset we need in order to drilldown to the hour? \n",
    "# Timestamp, Hour-Day-Month-Year, Day-Month-Year, Month-Year, Year, Timestamp_Redemptions, Hour-Day-Month-Year_Redemptions, Day-Month-Year_Redemptions, Month-Year_Redemptions, Year_Redemptions\n",
    "# Or we can group in plotly?"
   ]
  },
  {
   "cell_type": "code",
   "execution_count": 7,
   "id": "2e5d988f",
   "metadata": {},
   "outputs": [
    {
     "ename": "NameError",
     "evalue": "name 'all_years' is not defined",
     "output_type": "error",
     "traceback": [
      "\u001b[31m---------------------------------------------------------------------------\u001b[39m",
      "\u001b[31mNameError\u001b[39m                                 Traceback (most recent call last)",
      "\u001b[36mCell\u001b[39m\u001b[36m \u001b[39m\u001b[32mIn[7]\u001b[39m\u001b[32m, line 1\u001b[39m\n\u001b[32m----> \u001b[39m\u001b[32m1\u001b[39m \u001b[43mall_years\u001b[49m\n",
      "\u001b[31mNameError\u001b[39m: name 'all_years' is not defined"
     ]
    }
   ],
   "source": [
    "all_years"
   ]
  },
  {
   "cell_type": "code",
   "execution_count": 8,
   "id": "278ba489",
   "metadata": {},
   "outputs": [
    {
     "data": {
      "text/html": [
       "\n",
       "        <iframe\n",
       "            width=\"100%\"\n",
       "            height=\"650\"\n",
       "            src=\"http://127.0.0.1:8050/\"\n",
       "            frameborder=\"0\"\n",
       "            allowfullscreen\n",
       "            \n",
       "        ></iframe>\n",
       "        "
      ],
      "text/plain": [
       "<IPython.lib.display.IFrame at 0x267023935f0>"
      ]
     },
     "metadata": {},
     "output_type": "display_data"
    }
   ],
   "source": [
    "app.layout = dbc.Container([\n",
    "    dbc.NavbarSimple(brand=\"Toronto Ferry Dashboard\", color=\"primary\", dark=True),\n",
    "    dbc.Row([\n",
    "        dbc.Col([\n",
    "            html.H4(\"Redemption Counts\"),\n",
    "            dcc.Graph(figure=px.bar(year_grouped, x='Year', y='Redemption Count'))\n",
    "        ], width=8),\n",
    "        dbc.Col([\n",
    "            html.H4(\"Top 10 Days\"),\n",
    "            dash_table.DataTable(data=day_grouped_sorted.to_dict('records'), page_size=10),\n",
    "        ], width=4),\n",
    "        dbc.Col([\n",
    "            html.H4(\"Top Month\"),\n",
    "            dbc.Card([\n",
    "                dbc.CardBody(\n",
    "                    [\n",
    "                        html.H3(top_month, className =\"card-title\"),\n",
    "                        html.P(int(top_month_rd), className=\"card-text\")\n",
    "                    ]\n",
    "                )\n",
    "            ],\n",
    "                style={\"width\": \"10rem\"},\n",
    "            )\n",
    "        ])\n",
    "    ])\n",
    "], fluid=True)\n",
    "\n",
    "# Run the app\n",
    "if __name__ == '__main__':\n",
    "    app.run(debug=True)\n"
   ]
  },
  {
   "cell_type": "code",
   "execution_count": null,
   "id": "b38285cf",
   "metadata": {},
   "outputs": [],
   "source": []
  },
  {
   "cell_type": "code",
   "execution_count": null,
   "id": "619f025c",
   "metadata": {},
   "outputs": [],
   "source": []
  }
 ],
 "metadata": {
  "kernelspec": {
   "display_name": ".venv",
   "language": "python",
   "name": "python3"
  },
  "language_info": {
   "codemirror_mode": {
    "name": "ipython",
    "version": 3
   },
   "file_extension": ".py",
   "mimetype": "text/x-python",
   "name": "python",
   "nbconvert_exporter": "python",
   "pygments_lexer": "ipython3",
   "version": "3.12.3"
  }
 },
 "nbformat": 4,
 "nbformat_minor": 5
}
